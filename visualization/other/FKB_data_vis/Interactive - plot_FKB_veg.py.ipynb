{
 "cells": [
  {
   "cell_type": "markdown",
   "metadata": {},
   "source": [
    "Connected to HD-net (Python 3.9.-1)"
   ]
  },
  {
   "cell_type": "code",
   "execution_count": 1,
   "id": "e9802940-ce5a-4f1c-8be4-536a27b04ecd",
   "metadata": {},
   "outputs": [
    {
     "name": "stdout",
     "output_type": "stream",
     "text": [
      "/scratch/mueller_andco/demolition_footprints\n"
     ]
    }
   ],
   "source": [
    "import geopandas as gpd\n",
    "import matplotlib.pyplot as plt\n",
    "import os\n",
    "from pathlib import Path\n",
    "root_dir = Path(__file__).resolve().parents[4]\n",
    "print(root_dir)\n",
    "# load the FKB data"
   ]
  },
  {
   "cell_type": "code",
   "execution_count": 2,
   "id": "0148381a-0fd5-4e19-9bae-f5a45a491352",
   "metadata": {},
   "outputs": [
    {
     "name": "stdout",
     "output_type": "stream",
     "text": [
      "/scratch/mueller_andco/demolition_footprints/demolition_footprints\n"
     ]
    }
   ],
   "source": [
    "import geopandas as gpd\n",
    "import matplotlib.pyplot as plt\n",
    "import os\n",
    "from pathlib import Path\n",
    "root_dir = Path(__file__).resolve().parents[3]\n",
    "print(root_dir)\n",
    "# load the FKB data"
   ]
  },
  {
   "cell_type": "code",
   "execution_count": 3,
   "id": "56076d1c-0a51-4c76-9cae-1fc77b66f6c0",
   "metadata": {},
   "outputs": [
    {
     "name": "stdout",
     "output_type": "stream",
     "text": [
      "/scratch/mueller_andco/demolition_footprints/demolition_footprints\n"
     ]
    },
    {
     "ename": "DriverError",
     "evalue": "/scratch/mueller_andco/demolition_footprints/demolition_footprints/data/raw/Basisdata_0000_Norge_5973_FKB-Bygning_FGDB.gdb: No such file or directory",
     "output_type": "error",
     "traceback": [
      "\u001b[0;31m---------------------------------------------------------------------------\u001b[0m",
      "\u001b[0;31mCPLE_OpenFailedError\u001b[0m                      Traceback (most recent call last)",
      "File \u001b[0;32mfiona/_shim.pyx:83\u001b[0m, in \u001b[0;36mfiona._shim.gdal_open_vector\u001b[0;34m()\u001b[0m\n",
      "File \u001b[0;32mfiona/_err.pyx:291\u001b[0m, in \u001b[0;36mfiona._err.exc_wrap_pointer\u001b[0;34m()\u001b[0m\n",
      "\u001b[0;31mCPLE_OpenFailedError\u001b[0m: /scratch/mueller_andco/demolition_footprints/demolition_footprints/data/raw/Basisdata_0000_Norge_5973_FKB-Bygning_FGDB.gdb: No such file or directory",
      "\nDuring handling of the above exception, another exception occurred:\n",
      "\u001b[0;31mDriverError\u001b[0m                               Traceback (most recent call last)",
      "File \u001b[1;32m/scratch/mueller_andco/demolition_footprints/demolition_footprints/visualization/other/FKB_data_vis/plot_FKB_veg.py:15\u001b[0m\n\u001b[1;32m     13\u001b[0m FKB_veg_path \u001b[39m=\u001b[39m os\u001b[39m.\u001b[39mpath\u001b[39m.\u001b[39mjoin(root_dir, \u001b[39m'\u001b[39m\u001b[39mdata/raw/Basisdata_0000_Norge_5973_FKB-Veg_FGDB.gdb\u001b[39m\u001b[39m'\u001b[39m)\n\u001b[1;32m     14\u001b[0m \u001b[39m# list all layers\u001b[39;00m\n\u001b[0;32m---> 15\u001b[0m layers_bygning \u001b[39m=\u001b[39m fiona\u001b[39m.\u001b[39;49mlistlayers(FKB_bygning_path)\n\u001b[1;32m     16\u001b[0m layers_veg \u001b[39m=\u001b[39m fiona\u001b[39m.\u001b[39mlistlayers(FKB_veg_path)\n\u001b[1;32m     17\u001b[0m \u001b[39mprint\u001b[39m(\u001b[39mf\u001b[39m\u001b[39m'\u001b[39m\u001b[39m the layers in the FKB bygning data are: \u001b[39m\u001b[39m{\u001b[39;00mlayers_bygning\u001b[39m}\u001b[39;00m\u001b[39m'\u001b[39m)\n",
      "File \u001b[0;32m~/.conda/envs/HD-net/lib/python3.9/site-packages/fiona/env.py:417\u001b[0m, in \u001b[0;36mensure_env_with_credentials.<locals>.wrapper\u001b[0;34m(*args, **kwargs)\u001b[0m\n\u001b[1;32m    415\u001b[0m \u001b[39mwith\u001b[39;00m Env\u001b[39m.\u001b[39mfrom_defaults(session\u001b[39m=\u001b[39msession):\n\u001b[1;32m    416\u001b[0m     log\u001b[39m.\u001b[39mdebug(\u001b[39m\"\u001b[39m\u001b[39mCredentialized: \u001b[39m\u001b[39m{!r}\u001b[39;00m\u001b[39m\"\u001b[39m\u001b[39m.\u001b[39mformat(getenv()))\n\u001b[0;32m--> 417\u001b[0m     \u001b[39mreturn\u001b[39;00m f(\u001b[39m*\u001b[39;49margs, \u001b[39m*\u001b[39;49m\u001b[39m*\u001b[39;49mkwargs)\n",
      "File \u001b[0;32m~/.conda/envs/HD-net/lib/python3.9/site-packages/fiona/__init__.py:362\u001b[0m, in \u001b[0;36mlistlayers\u001b[0;34m(fp, vfs)\u001b[0m\n\u001b[1;32m    359\u001b[0m \u001b[39melse\u001b[39;00m:\n\u001b[1;32m    360\u001b[0m     pobj \u001b[39m=\u001b[39m parse_path(fp)\n\u001b[0;32m--> 362\u001b[0m \u001b[39mreturn\u001b[39;00m _listlayers(vsi_path(pobj))\n",
      "File \u001b[0;32mfiona/ogrext.pyx:1659\u001b[0m, in \u001b[0;36mfiona.ogrext._listlayers\u001b[0;34m()\u001b[0m\n",
      "File \u001b[0;32mfiona/_shim.pyx:90\u001b[0m, in \u001b[0;36mfiona._shim.gdal_open_vector\u001b[0;34m()\u001b[0m\n",
      "\u001b[0;31mDriverError\u001b[0m: /scratch/mueller_andco/demolition_footprints/demolition_footprints/data/raw/Basisdata_0000_Norge_5973_FKB-Bygning_FGDB.gdb: No such file or directory"
     ]
    }
   ],
   "source": [
    "import geopandas as gpd\n",
    "import matplotlib.pyplot as plt\n",
    "import os\n",
    "import fiona\n",
    "\n",
    "from pathlib import Path\n",
    "\n",
    "root_dir = Path(__file__).resolve().parents[3]\n",
    "print(root_dir)\n",
    "# load the FKB data\n",
    "FKB_bygning_path = os.path.join(root_dir, 'data/raw/Basisdata_0000_Norge_5973_FKB-Bygning_FGDB.gdb')\n",
    "FKB_veg_path = os.path.join(root_dir, 'data/raw/Basisdata_0000_Norge_5973_FKB-Veg_FGDB.gdb')\n",
    "# list all layers\n",
    "layers_bygning = fiona.listlayers(FKB_bygning_path)\n",
    "layers_veg = fiona.listlayers(FKB_veg_path)\n",
    "print(f' the layers in the FKB bygning data are: {layers_bygning}')\n",
    "print(f' the layers in the FKB veg data are: {layers_veg}')"
   ]
  },
  {
   "cell_type": "code",
   "execution_count": 4,
   "id": "4c3e8841-c16a-4ba0-b9ed-ad6808133592",
   "metadata": {},
   "outputs": [
    {
     "name": "stdout",
     "output_type": "stream",
     "text": [
      "/scratch/mueller_andco/demolition_footprints/demolition_footprints\n"
     ]
    },
    {
     "ename": "DriverError",
     "evalue": "/scratch/mueller_andco/demolition_footprints/demolition_footprints/data/raw/FKB_byging/Basisdata_0000_Norge_5973_FKB-Bygning_FGDB.gdb: No such file or directory",
     "output_type": "error",
     "traceback": [
      "\u001b[0;31m---------------------------------------------------------------------------\u001b[0m",
      "\u001b[0;31mCPLE_OpenFailedError\u001b[0m                      Traceback (most recent call last)",
      "File \u001b[0;32mfiona/_shim.pyx:83\u001b[0m, in \u001b[0;36mfiona._shim.gdal_open_vector\u001b[0;34m()\u001b[0m\n",
      "File \u001b[0;32mfiona/_err.pyx:291\u001b[0m, in \u001b[0;36mfiona._err.exc_wrap_pointer\u001b[0;34m()\u001b[0m\n",
      "\u001b[0;31mCPLE_OpenFailedError\u001b[0m: /scratch/mueller_andco/demolition_footprints/demolition_footprints/data/raw/FKB_byging/Basisdata_0000_Norge_5973_FKB-Bygning_FGDB.gdb: No such file or directory",
      "\nDuring handling of the above exception, another exception occurred:\n",
      "\u001b[0;31mDriverError\u001b[0m                               Traceback (most recent call last)",
      "File \u001b[1;32m/scratch/mueller_andco/demolition_footprints/demolition_footprints/visualization/other/FKB_data_vis/plot_FKB_veg.py:15\u001b[0m\n\u001b[1;32m     13\u001b[0m FKB_veg_path \u001b[39m=\u001b[39m os\u001b[39m.\u001b[39mpath\u001b[39m.\u001b[39mjoin(root_dir, \u001b[39m'\u001b[39m\u001b[39mdata/raw/FKB_veg/Basisdata_0000_Norge_5973_FKB-Veg_FGDB.gdb\u001b[39m\u001b[39m'\u001b[39m)\n\u001b[1;32m     14\u001b[0m \u001b[39m# list all layers\u001b[39;00m\n\u001b[0;32m---> 15\u001b[0m layers_bygning \u001b[39m=\u001b[39m fiona\u001b[39m.\u001b[39;49mlistlayers(FKB_bygning_path)\n\u001b[1;32m     16\u001b[0m layers_veg \u001b[39m=\u001b[39m fiona\u001b[39m.\u001b[39mlistlayers(FKB_veg_path)\n\u001b[1;32m     17\u001b[0m \u001b[39mprint\u001b[39m(\u001b[39mf\u001b[39m\u001b[39m'\u001b[39m\u001b[39m the layers in the FKB bygning data are: \u001b[39m\u001b[39m{\u001b[39;00mlayers_bygning\u001b[39m}\u001b[39;00m\u001b[39m'\u001b[39m)\n",
      "File \u001b[0;32m~/.conda/envs/HD-net/lib/python3.9/site-packages/fiona/env.py:417\u001b[0m, in \u001b[0;36mensure_env_with_credentials.<locals>.wrapper\u001b[0;34m(*args, **kwargs)\u001b[0m\n\u001b[1;32m    415\u001b[0m \u001b[39mwith\u001b[39;00m Env\u001b[39m.\u001b[39mfrom_defaults(session\u001b[39m=\u001b[39msession):\n\u001b[1;32m    416\u001b[0m     log\u001b[39m.\u001b[39mdebug(\u001b[39m\"\u001b[39m\u001b[39mCredentialized: \u001b[39m\u001b[39m{!r}\u001b[39;00m\u001b[39m\"\u001b[39m\u001b[39m.\u001b[39mformat(getenv()))\n\u001b[0;32m--> 417\u001b[0m     \u001b[39mreturn\u001b[39;00m f(\u001b[39m*\u001b[39;49margs, \u001b[39m*\u001b[39;49m\u001b[39m*\u001b[39;49mkwargs)\n",
      "File \u001b[0;32m~/.conda/envs/HD-net/lib/python3.9/site-packages/fiona/__init__.py:362\u001b[0m, in \u001b[0;36mlistlayers\u001b[0;34m(fp, vfs)\u001b[0m\n\u001b[1;32m    359\u001b[0m \u001b[39melse\u001b[39;00m:\n\u001b[1;32m    360\u001b[0m     pobj \u001b[39m=\u001b[39m parse_path(fp)\n\u001b[0;32m--> 362\u001b[0m \u001b[39mreturn\u001b[39;00m _listlayers(vsi_path(pobj))\n",
      "File \u001b[0;32mfiona/ogrext.pyx:1659\u001b[0m, in \u001b[0;36mfiona.ogrext._listlayers\u001b[0;34m()\u001b[0m\n",
      "File \u001b[0;32mfiona/_shim.pyx:90\u001b[0m, in \u001b[0;36mfiona._shim.gdal_open_vector\u001b[0;34m()\u001b[0m\n",
      "\u001b[0;31mDriverError\u001b[0m: /scratch/mueller_andco/demolition_footprints/demolition_footprints/data/raw/FKB_byging/Basisdata_0000_Norge_5973_FKB-Bygning_FGDB.gdb: No such file or directory"
     ]
    }
   ],
   "source": [
    "import geopandas as gpd\n",
    "import matplotlib.pyplot as plt\n",
    "import os\n",
    "import fiona\n",
    "\n",
    "from pathlib import Path\n",
    "\n",
    "root_dir = Path(__file__).resolve().parents[3]\n",
    "print(root_dir)\n",
    "# load the FKB data\n",
    "FKB_bygning_path = os.path.join(root_dir, 'data/raw/FKB_byging/Basisdata_0000_Norge_5973_FKB-Bygning_FGDB.gdb')\n",
    "FKB_veg_path = os.path.join(root_dir, 'data/raw/FKB_veg/Basisdata_0000_Norge_5973_FKB-Veg_FGDB.gdb')\n",
    "# list all layers\n",
    "layers_bygning = fiona.listlayers(FKB_bygning_path)\n",
    "layers_veg = fiona.listlayers(FKB_veg_path)\n",
    "print(f' the layers in the FKB bygning data are: {layers_bygning}')\n",
    "print(f' the layers in the FKB veg data are: {layers_veg}')"
   ]
  },
  {
   "cell_type": "code",
   "execution_count": 5,
   "id": "9a33c460-c9da-44b9-9ac7-07eafe135609",
   "metadata": {},
   "outputs": [
    {
     "name": "stdout",
     "output_type": "stream",
     "text": [
      "/scratch/mueller_andco/demolition_footprints/demolition_footprints\n",
      " the layers in the FKB bygning data are: ['fkb_bygning_omrade', 'fkb_bygning_grense', 'fkb_bygning_posisjon', 'fkb_bygning_senterlinje']\n",
      " the layers in the FKB veg data are: ['fkb_veg_grense', 'fkb_veg_omrade', 'fkb_veg_senterlinje', 'fkb_veg_posisjon']\n"
     ]
    }
   ],
   "source": [
    "import geopandas as gpd\n",
    "import matplotlib.pyplot as plt\n",
    "import os\n",
    "import fiona\n",
    "\n",
    "from pathlib import Path\n",
    "\n",
    "root_dir = Path(__file__).resolve().parents[3]\n",
    "print(root_dir)\n",
    "# load the FKB data\n",
    "FKB_bygning_path = os.path.join(root_dir, 'data/raw/FKB_bygning/Basisdata_0000_Norge_5973_FKB-Bygning_FGDB.gdb')\n",
    "FKB_veg_path = os.path.join(root_dir, 'data/raw/FKB_veg/Basisdata_0000_Norge_5973_FKB-Veg_FGDB.gdb')\n",
    "# list all layers\n",
    "layers_bygning = fiona.listlayers(FKB_bygning_path)\n",
    "layers_veg = fiona.listlayers(FKB_veg_path)\n",
    "print(f' the layers in the FKB bygning data are: {layers_bygning}')\n",
    "print(f' the layers in the FKB veg data are: {layers_veg}')"
   ]
  },
  {
   "cell_type": "code",
   "execution_count": 6,
   "id": "3d1338db-2533-430d-a737-4049d006c4b1",
   "metadata": {},
   "outputs": [
    {
     "name": "stderr",
     "output_type": "stream",
     "text": [
      "/home/nilsdi/.conda/envs/HD-net/lib/python3.9/site-packages/geopandas/io/file.py:364: FutureWarning: errors='ignore' is deprecated and will raise in a future version. Use to_datetime without passing `errors` and catch exceptions explicitly instead\n",
      "  as_dt = pd.to_datetime(df[k], errors=\"ignore\")\n",
      "/home/nilsdi/.conda/envs/HD-net/lib/python3.9/site-packages/geopandas/io/file.py:364: FutureWarning: errors='ignore' is deprecated and will raise in a future version. Use to_datetime without passing `errors` and catch exceptions explicitly instead\n",
      "  as_dt = pd.to_datetime(df[k], errors=\"ignore\")\n",
      "/home/nilsdi/.conda/envs/HD-net/lib/python3.9/site-packages/geopandas/io/file.py:364: FutureWarning: errors='ignore' is deprecated and will raise in a future version. Use to_datetime without passing `errors` and catch exceptions explicitly instead\n",
      "  as_dt = pd.to_datetime(df[k], errors=\"ignore\")\n",
      "/home/nilsdi/.conda/envs/HD-net/lib/python3.9/site-packages/geopandas/io/file.py:364: FutureWarning: errors='ignore' is deprecated and will raise in a future version. Use to_datetime without passing `errors` and catch exceptions explicitly instead\n",
      "  as_dt = pd.to_datetime(df[k], errors=\"ignore\")\n",
      "/home/nilsdi/.conda/envs/HD-net/lib/python3.9/site-packages/geopandas/io/file.py:364: FutureWarning: errors='ignore' is deprecated and will raise in a future version. Use to_datetime without passing `errors` and catch exceptions explicitly instead\n",
      "  as_dt = pd.to_datetime(df[k], errors=\"ignore\")\n",
      "/home/nilsdi/.conda/envs/HD-net/lib/python3.9/site-packages/geopandas/io/file.py:364: FutureWarning: errors='ignore' is deprecated and will raise in a future version. Use to_datetime without passing `errors` and catch exceptions explicitly instead\n",
      "  as_dt = pd.to_datetime(df[k], errors=\"ignore\")\n",
      "/home/nilsdi/.conda/envs/HD-net/lib/python3.9/site-packages/geopandas/io/file.py:364: FutureWarning: errors='ignore' is deprecated and will raise in a future version. Use to_datetime without passing `errors` and catch exceptions explicitly instead\n",
      "  as_dt = pd.to_datetime(df[k], errors=\"ignore\")\n"
     ]
    }
   ],
   "source": [
    "veg_grenser = gpd.read_file(FKB_veg_path, layer='fkb_veg_grense')\n",
    "veg_omrader = gpd.read_file(FKB_veg_path, layer='fkb_veg_omrade')\n",
    "#bygg_grenser = gpd.read_file(FKB_bygning_path, layer='fkb_bygning_grense')"
   ]
  },
  {
   "cell_type": "code",
   "execution_count": null,
   "id": "f12f84c8-bf00-46e0-b790-03edd29901ed",
   "metadata": {},
   "outputs": [],
   "source": [
    "bbox = [10.4081, 63.4305, 10.4101, 63.4325]\n",
    "#bbox = [270202.737422,7041627.464458, 270250.921554,7041681.901292 ] # _25833\n",
    "veg_grenser_4326 = veg_grenser.to_crs( 'EPSG:4326')\n",
    "bbox_veg_grenser =veg_grenser_4326.cx[bbox[0]:bbox[2], bbox[1]:bbox[3]]\n",
    "\n",
    "# plot in simple folium map\n",
    "m = folium.Map(location=[63.4305, 10.3951], zoom_start=13)\n",
    "# Add a rectangle for the bounding box\n",
    "folium.GeoJson(box(*bbox), style_function=lambda x: {'color': 'blue', 'fill': False}).add_to(m)\n",
    "for _, row in bbox_veg_grenser.iterrows():\n",
    "    folium.GeoJson(row.geometry, style_function = lambda x: {'color': 'red'}).add_to(m)\n",
    "m"
   ]
  }
 ],
 "metadata": {
  "kernelspec": {
   "display_name": "HD-net",
   "language": "python",
   "name": "python3"
  },
  "language_info": {
   "name": "python",
   "version": "3.9.-1"
  }
 },
 "nbformat": 4,
 "nbformat_minor": 2
}
