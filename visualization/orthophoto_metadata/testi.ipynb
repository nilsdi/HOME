{
 "cells": [
  {
   "cell_type": "code",
   "execution_count": null,
   "metadata": {},
   "outputs": [],
   "source": [
    "import numpy as np\n",
    "\n",
    "final_bounds = [-213472.72177786718, 6348359.499215413, 1214618.0090656844, 8039917.070420355]\n",
    "initial_bounds = [-113472.72177787, 6448359.49921541, 1114618.00906568, 7939917.07042035]\n"
   ]
  },
  {
   "cell_type": "code",
   "execution_count": 2,
   "metadata": {},
   "outputs": [
    {
     "name": "stdout",
     "output_type": "stream",
     "text": [
      "Requirement already satisfied: pyproj in /home/nilsdi/.conda/envs/HD-net/lib/python3.9/site-packages (2.6.1.post1)\n",
      "Collecting pyproj\n",
      "  Downloading pyproj-3.6.1-cp39-cp39-manylinux_2_17_x86_64.manylinux2014_x86_64.whl.metadata (31 kB)\n",
      "Requirement already satisfied: certifi in /home/nilsdi/.conda/envs/HD-net/lib/python3.9/site-packages (from pyproj) (2024.2.2)\n",
      "Downloading pyproj-3.6.1-cp39-cp39-manylinux_2_17_x86_64.manylinux2014_x86_64.whl (8.3 MB)\n",
      "\u001b[2K   \u001b[90m━━━━━━━━━━━━━━━━━━━━━━━━━━━━━━━━━━━━━━━━\u001b[0m \u001b[32m8.3/8.3 MB\u001b[0m \u001b[31m42.2 MB/s\u001b[0m eta \u001b[36m0:00:00\u001b[0m00:01\u001b[0m00:01\u001b[0m\n",
      "\u001b[?25hInstalling collected packages: pyproj\n",
      "  Attempting uninstall: pyproj\n",
      "    Found existing installation: pyproj 2.6.1.post1\n",
      "    Uninstalling pyproj-2.6.1.post1:\n",
      "      Successfully uninstalled pyproj-2.6.1.post1\n",
      "Successfully installed pyproj-3.6.1\n"
     ]
    }
   ],
   "source": [
    "# update proj: \n",
    "!pip install --upgrade pyproj"
   ]
  }
 ],
 "metadata": {
  "kernelspec": {
   "display_name": "HD-net",
   "language": "python",
   "name": "python3"
  },
  "language_info": {
   "codemirror_mode": {
    "name": "ipython",
    "version": 3
   },
   "file_extension": ".py",
   "mimetype": "text/x-python",
   "name": "python",
   "nbconvert_exporter": "python",
   "pygments_lexer": "ipython3",
   "version": "3.9.18"
  }
 },
 "nbformat": 4,
 "nbformat_minor": 2
}
