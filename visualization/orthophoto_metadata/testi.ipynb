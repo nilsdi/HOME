{
 "cells": [
  {
   "cell_type": "code",
   "execution_count": null,
   "metadata": {},
   "outputs": [],
   "source": [
    "import numpy as np\n",
    "\n",
    "final_bounds = [-213472.72177786718, 6348359.499215413, 1214618.0090656844, 8039917.070420355]\n",
    "initial_bounds = [-113472.72177787, 6448359.49921541, 1114618.00906568, 7939917.07042035]\n"
   ]
  }
 ],
 "metadata": {
  "language_info": {
   "name": "python"
  }
 },
 "nbformat": 4,
 "nbformat_minor": 2
}
