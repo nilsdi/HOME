{
 "cells": [
  {
   "cell_type": "code",
   "execution_count": 1,
   "metadata": {},
   "outputs": [],
   "source": [
    "import requests\n",
    "from pathlib import Path\n",
    "import json\n",
    "import os\n",
    "import time\n",
    "import base64"
   ]
  },
  {
   "cell_type": "code",
   "execution_count": 6,
   "metadata": {},
   "outputs": [
    {
     "name": "stdout",
     "output_type": "stream",
     "text": [
      "/scratch/mueller_andco/orthophoto/HOME/HOME/data_acquisition/norgeibilder/orthophoto_api\n",
      "VU5UTlVfTVVMREFOOkRBTklFTDA0MDk=\n"
     ]
    },
    {
     "ename": "NameError",
     "evalue": "name 'true' is not defined",
     "output_type": "error",
     "traceback": [
      "\u001b[0;31m---------------------------------------------------------------------------\u001b[0m",
      "\u001b[0;31mNameError\u001b[0m                                 Traceback (most recent call last)",
      "Cell \u001b[0;32mIn[6], line 34\u001b[0m\n\u001b[1;32m     24\u001b[0m headers \u001b[38;5;241m=\u001b[39m {\n\u001b[1;32m     25\u001b[0m     \u001b[38;5;124m\"\u001b[39m\u001b[38;5;124mAuthorization\u001b[39m\u001b[38;5;124m\"\u001b[39m: authorization_header,\n\u001b[1;32m     26\u001b[0m     \u001b[38;5;124m\"\u001b[39m\u001b[38;5;124mContent-Type\u001b[39m\u001b[38;5;124m\"\u001b[39m: \u001b[38;5;124m\"\u001b[39m\u001b[38;5;124mapplication/json\u001b[39m\u001b[38;5;124m\"\u001b[39m,\n\u001b[1;32m     27\u001b[0m }\n\u001b[1;32m     28\u001b[0m \u001b[38;5;66;03m# export payload\u001b[39;00m\n\u001b[1;32m     29\u001b[0m export_payload \u001b[38;5;241m=\u001b[39m {\n\u001b[1;32m     30\u001b[0m \u001b[38;5;124m\"\u001b[39m\u001b[38;5;124mcopyEmail\u001b[39m\u001b[38;5;124m\"\u001b[39m: \u001b[38;5;124m\"\u001b[39m\u001b[38;5;124mnils.dittrich@ntnu.no\u001b[39m\u001b[38;5;124m\"\u001b[39m,\n\u001b[1;32m     31\u001b[0m \u001b[38;5;124m\"\u001b[39m\u001b[38;5;124mcomment\u001b[39m\u001b[38;5;124m\"\u001b[39m: \u001b[38;5;124m\"\u001b[39m\u001b[38;5;124mtesting swagger API\u001b[39m\u001b[38;5;124m\"\u001b[39m,\n\u001b[1;32m     32\u001b[0m \u001b[38;5;124m\"\u001b[39m\u001b[38;5;124mcoordInput\u001b[39m\u001b[38;5;124m\"\u001b[39m: {},\n\u001b[1;32m     33\u001b[0m \u001b[38;5;124m\"\u001b[39m\u001b[38;5;124minputWkid\u001b[39m\u001b[38;5;124m\"\u001b[39m: \u001b[38;5;241m0\u001b[39m,\n\u001b[0;32m---> 34\u001b[0m \u001b[38;5;124m\"\u001b[39m\u001b[38;5;124mcutNationalBorder\u001b[39m\u001b[38;5;124m\"\u001b[39m: \u001b[43mtrue\u001b[49m,\n\u001b[1;32m     35\u001b[0m \u001b[38;5;124m\"\u001b[39m\u001b[38;5;124mformat\u001b[39m\u001b[38;5;124m\"\u001b[39m: \u001b[38;5;241m4\u001b[39m,\n\u001b[1;32m     36\u001b[0m \u001b[38;5;124m\"\u001b[39m\u001b[38;5;124mresolution\u001b[39m\u001b[38;5;124m\"\u001b[39m: \u001b[38;5;241m0.3\u001b[39m,\n\u001b[1;32m     37\u001b[0m \u001b[38;5;124m\"\u001b[39m\u001b[38;5;124moutputWkid\u001b[39m\u001b[38;5;124m\"\u001b[39m: \u001b[38;5;241m0\u001b[39m,\n\u001b[1;32m     38\u001b[0m \u001b[38;5;124m\"\u001b[39m\u001b[38;5;124mfillColor\u001b[39m\u001b[38;5;124m\"\u001b[39m: \u001b[38;5;241m0\u001b[39m,\n\u001b[1;32m     39\u001b[0m \u001b[38;5;124m\"\u001b[39m\u001b[38;5;124mfillImage\u001b[39m\u001b[38;5;124m\"\u001b[39m: true,\n\u001b[1;32m     40\u001b[0m \u001b[38;5;124m\"\u001b[39m\u001b[38;5;124mprojects\u001b[39m\u001b[38;5;124m\"\u001b[39m: [\n\u001b[1;32m     41\u001b[0m \u001b[38;5;124m\"\u001b[39m\u001b[38;5;124mTrondheim 2019\u001b[39m\u001b[38;5;124m\"\u001b[39m\n\u001b[1;32m     42\u001b[0m ],\n\u001b[1;32m     43\u001b[0m \u001b[38;5;124m\"\u001b[39m\u001b[38;5;124mcompressionMethod\u001b[39m\u001b[38;5;124m\"\u001b[39m: \u001b[38;5;241m5\u001b[39m,\n\u001b[1;32m     44\u001b[0m \u001b[38;5;124m\"\u001b[39m\u001b[38;5;124mcompressionValue\u001b[39m\u001b[38;5;124m\"\u001b[39m: \u001b[38;5;241m25\u001b[39m,\n\u001b[1;32m     45\u001b[0m \u001b[38;5;124m\"\u001b[39m\u001b[38;5;124mimagemosaic\u001b[39m\u001b[38;5;124m\"\u001b[39m: \u001b[38;5;241m1\u001b[39m,\n\u001b[1;32m     46\u001b[0m \u001b[38;5;124m\"\u001b[39m\u001b[38;5;124mexportFilename\u001b[39m\u001b[38;5;124m\"\u001b[39m: \u001b[38;5;124m\"\u001b[39m\u001b[38;5;124mtestitest1\u001b[39m\u001b[38;5;124m\"\u001b[39m,\n\u001b[1;32m     47\u001b[0m }\n\u001b[1;32m     48\u001b[0m export_payload_json \u001b[38;5;241m=\u001b[39m json\u001b[38;5;241m.\u001b[39mdumps(export_payload)\n\u001b[1;32m     49\u001b[0m export_query \u001b[38;5;241m=\u001b[39m {\u001b[38;5;124m\"\u001b[39m\u001b[38;5;124mrequest\u001b[39m\u001b[38;5;124m\"\u001b[39m: export_payload_json}\n",
      "\u001b[0;31mNameError\u001b[0m: name 'true' is not defined"
     ]
    }
   ],
   "source": [
    "# API endpoints\n",
    "auth_url = \"https://backend-api.klienter-prod-k8s2.norgeibilder.no/authenticate\"\n",
    "export_url = \"https://backend-api.klienter-prod-k8s2.norgeibilder.no/export/start\"\n",
    "\n",
    "# Get the current working directory\n",
    "current_dir = Path(os.getcwd()).resolve()\n",
    "print(current_dir)\n",
    "\n",
    "# Construct the path to the JSON file\n",
    "json_file_path = os.path.join(current_dir, \"geonorge_login.json\")\n",
    "\n",
    "# Open the JSON file\n",
    "with open(json_file_path, \"r\") as file:\n",
    "    # Load the JSON data\n",
    "    login = json.load(file)\n",
    "\n",
    "# create base64 encoded string\n",
    "auth_string = f\"{login['Username']}:{login['Password']}\"\n",
    "auth_string = base64.b64encode(auth_string.encode()).decode()\n",
    "print(auth_string)\n",
    "authorization_header = f\"Basic {auth_string}\"\n",
    "\n",
    "# Create the headers\n",
    "headers = {\n",
    "    \"Authorization\": authorization_header,\n",
    "    \"Content-Type\": \"application/json\",\n",
    "}\n",
    "# export payload\n",
    "export_payload = {\n",
    "\"copyEmail\": \"nils.dittrich@ntnu.no\",\n",
    "\"comment\": \"testing swagger API\",\n",
    "\"coordInput\": {},\n",
    "\"inputWkid\": 0,\n",
    "\"cutNationalBorder\": True,\n",
    "\"format\": 4,\n",
    "\"resolution\": 0.3,\n",
    "\"outputWkid\": 0,\n",
    "\"fillColor\": 0,\n",
    "\"fillImage\": true,\n",
    "\"projects\": [\n",
    "\"Trondheim 2019\"\n",
    "],\n",
    "\"compressionMethod\": 5,\n",
    "\"compressionValue\": 25,\n",
    "\"imagemosaic\": 1,\n",
    "\"exportFilename\": \"testitest1\",\n",
    "}\n",
    "export_payload_json = json.dumps(export_payload)\n",
    "export_query = {\"request\": export_payload_json}\n",
    "export_response = requests.get(export_url, headers=headers, data=export_query)\n",
    "# Authenticate and get the access token\n"
   ]
  },
  {
   "cell_type": "code",
   "execution_count": null,
   "metadata": {},
   "outputs": [],
   "source": []
  }
 ],
 "metadata": {
  "kernelspec": {
   "display_name": "base",
   "language": "python",
   "name": "python3"
  },
  "language_info": {
   "codemirror_mode": {
    "name": "ipython",
    "version": 3
   },
   "file_extension": ".py",
   "mimetype": "text/x-python",
   "name": "python",
   "nbconvert_exporter": "python",
   "pygments_lexer": "ipython3",
   "version": "3.9.18"
  }
 },
 "nbformat": 4,
 "nbformat_minor": 2
}
