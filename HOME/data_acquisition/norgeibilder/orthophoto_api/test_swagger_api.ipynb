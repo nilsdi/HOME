{
 "cells": [
  {
   "cell_type": "code",
   "execution_count": 1,
   "metadata": {},
   "outputs": [],
   "source": [
    "import requests\n",
    "from pathlib import Path\n",
    "import json\n",
    "import os\n",
    "import time\n",
    "import base64"
   ]
  },
  {
   "cell_type": "code",
   "execution_count": 8,
   "metadata": {},
   "outputs": [
    {
     "name": "stdout",
     "output_type": "stream",
     "text": [
      "/scratch/mueller_andco/orthophoto/HOME/HOME/data_acquisition/norgeibilder/orthophoto_api\n",
      "VU5UTlVfTVVMREFOOkRBTklFTDA0MDk=\n"
     ]
    }
   ],
   "source": [
    "# API endpoints\n",
    "auth_url = \"https://backend-api.klienter-prod-k8s2.norgeibilder.no/authenticate\"\n",
    "export_url = \"https://backend-api.klienter-prod-k8s2.norgeibilder.no/export/start\"\n",
    "\n",
    "# Get the current working directory\n",
    "current_dir = Path(os.getcwd()).resolve()\n",
    "print(current_dir)\n",
    "\n",
    "# Construct the path to the JSON file\n",
    "json_file_path = os.path.join(current_dir, \"geonorge_login.json\")\n",
    "\n",
    "# Open the JSON file\n",
    "with open(json_file_path, \"r\") as file:\n",
    "    # Load the JSON data\n",
    "    login = json.load(file)\n",
    "\n",
    "# create base64 encoded string\n",
    "auth_string = f\"{login['Username']}:{login['Password']}\"\n",
    "auth_string = base64.b64encode(auth_string.encode()).decode()\n",
    "print(auth_string)\n",
    "authorization_header = f\"Basic {auth_string}\"\n",
    "\n",
    "# Create the headers\n",
    "headers = {\n",
    "    \"Authorization\": authorization_header,\n",
    "    \"Content-Type\": \"application/json\",\n",
    "}\n",
    "# export payload\n",
    "export_payload = {\n",
    "\"copyEmail\": \"nils.dittrich@ntnu.no\",\n",
    "\"comment\": \"testing swagger API\",\n",
    "\"coordInput\": {},\n",
    "\"inputWkid\": 0,\n",
    "\"cutNationalBorder\": True,\n",
    "\"format\": 4,\n",
    "\"resolution\": 0.3,\n",
    "\"outputWkid\": 0,\n",
    "\"fillColor\": 0,\n",
    "\"fillImage\": True,\n",
    "\"projects\": [\n",
    "\"Trondheim 2019\"\n",
    "],\n",
    "\"compressionMethod\": 5,\n",
    "\"compressionValue\": 25,\n",
    "\"imagemosaic\": 1,\n",
    "\"exportFilename\": \"testitest1\",\n",
    "}\n",
    "export_payload_json = json.dumps(export_payload)\n",
    "export_query = {\"request\": export_payload_json}\n",
    "export_response = requests.get(export_url, headers=headers, data=export_query)\n",
    "# Authenticate and get the access token\n"
   ]
  },
  {
   "cell_type": "code",
   "execution_count": 9,
   "metadata": {},
   "outputs": [
    {
     "data": {
      "text/plain": [
       "404"
      ]
     },
     "execution_count": 9,
     "metadata": {},
     "output_type": "execute_result"
    }
   ],
   "source": [
    "export_response.status_code"
   ]
  }
 ],
 "metadata": {
  "kernelspec": {
   "display_name": "base",
   "language": "python",
   "name": "python3"
  },
  "language_info": {
   "codemirror_mode": {
    "name": "ipython",
    "version": 3
   },
   "file_extension": ".py",
   "mimetype": "text/x-python",
   "name": "python",
   "nbconvert_exporter": "python",
   "pygments_lexer": "ipython3",
   "version": "3.9.18"
  }
 },
 "nbformat": 4,
 "nbformat_minor": 2
}
