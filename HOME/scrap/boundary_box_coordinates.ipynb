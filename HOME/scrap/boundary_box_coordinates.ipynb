{
 "cells": [
  {
   "cell_type": "code",
   "execution_count": 1,
   "metadata": {},
   "outputs": [
    {
     "name": "stdout",
     "output_type": "stream",
     "text": [
      "the area of the bounding box is 183.0 km2, with a width of 12.0 kmand a height of 15.0 km\n"
     ]
    },
    {
     "data": {
      "text/html": [
       "<div style=\"width:100%;\"><div style=\"position:relative;width:100%;height:0;padding-bottom:60%;\"><span style=\"color:#565656\">Make this Notebook Trusted to load map: File -> Trust Notebook</span><iframe srcdoc=\"&lt;!DOCTYPE html&gt;\n",
       "&lt;html&gt;\n",
       "&lt;head&gt;\n",
       "    \n",
       "    &lt;meta http-equiv=&quot;content-type&quot; content=&quot;text/html; charset=UTF-8&quot; /&gt;\n",
       "    \n",
       "        &lt;script&gt;\n",
       "            L_NO_TOUCH = false;\n",
       "            L_DISABLE_3D = false;\n",
       "        &lt;/script&gt;\n",
       "    \n",
       "    &lt;style&gt;html, body {width: 100%;height: 100%;margin: 0;padding: 0;}&lt;/style&gt;\n",
       "    &lt;style&gt;#map {position:absolute;top:0;bottom:0;right:0;left:0;}&lt;/style&gt;\n",
       "    &lt;script src=&quot;https://cdn.jsdelivr.net/npm/leaflet@1.9.3/dist/leaflet.js&quot;&gt;&lt;/script&gt;\n",
       "    &lt;script src=&quot;https://code.jquery.com/jquery-3.7.1.min.js&quot;&gt;&lt;/script&gt;\n",
       "    &lt;script src=&quot;https://cdn.jsdelivr.net/npm/bootstrap@5.2.2/dist/js/bootstrap.bundle.min.js&quot;&gt;&lt;/script&gt;\n",
       "    &lt;script src=&quot;https://cdnjs.cloudflare.com/ajax/libs/Leaflet.awesome-markers/2.0.2/leaflet.awesome-markers.js&quot;&gt;&lt;/script&gt;\n",
       "    &lt;link rel=&quot;stylesheet&quot; href=&quot;https://cdn.jsdelivr.net/npm/leaflet@1.9.3/dist/leaflet.css&quot;/&gt;\n",
       "    &lt;link rel=&quot;stylesheet&quot; href=&quot;https://cdn.jsdelivr.net/npm/bootstrap@5.2.2/dist/css/bootstrap.min.css&quot;/&gt;\n",
       "    &lt;link rel=&quot;stylesheet&quot; href=&quot;https://netdna.bootstrapcdn.com/bootstrap/3.0.0/css/bootstrap.min.css&quot;/&gt;\n",
       "    &lt;link rel=&quot;stylesheet&quot; href=&quot;https://cdn.jsdelivr.net/npm/@fortawesome/fontawesome-free@6.2.0/css/all.min.css&quot;/&gt;\n",
       "    &lt;link rel=&quot;stylesheet&quot; href=&quot;https://cdnjs.cloudflare.com/ajax/libs/Leaflet.awesome-markers/2.0.2/leaflet.awesome-markers.css&quot;/&gt;\n",
       "    &lt;link rel=&quot;stylesheet&quot; href=&quot;https://cdn.jsdelivr.net/gh/python-visualization/folium/folium/templates/leaflet.awesome.rotate.min.css&quot;/&gt;\n",
       "    \n",
       "            &lt;meta name=&quot;viewport&quot; content=&quot;width=device-width,\n",
       "                initial-scale=1.0, maximum-scale=1.0, user-scalable=no&quot; /&gt;\n",
       "            &lt;style&gt;\n",
       "                #map_d6f89c35f59f066b44142c919df37a95 {\n",
       "                    position: relative;\n",
       "                    width: 100.0%;\n",
       "                    height: 100.0%;\n",
       "                    left: 0.0%;\n",
       "                    top: 0.0%;\n",
       "                }\n",
       "                .leaflet-container { font-size: 1rem; }\n",
       "            &lt;/style&gt;\n",
       "        \n",
       "&lt;/head&gt;\n",
       "&lt;body&gt;\n",
       "    \n",
       "    \n",
       "            &lt;div class=&quot;folium-map&quot; id=&quot;map_d6f89c35f59f066b44142c919df37a95&quot; &gt;&lt;/div&gt;\n",
       "        \n",
       "&lt;/body&gt;\n",
       "&lt;script&gt;\n",
       "    \n",
       "    \n",
       "            var map_d6f89c35f59f066b44142c919df37a95 = L.map(\n",
       "                &quot;map_d6f89c35f59f066b44142c919df37a95&quot;,\n",
       "                {\n",
       "                    center: [63.3865, 10.39505],\n",
       "                    crs: L.CRS.EPSG3857,\n",
       "                    zoom: 11,\n",
       "                    zoomControl: true,\n",
       "                    preferCanvas: false,\n",
       "                }\n",
       "            );\n",
       "\n",
       "            \n",
       "\n",
       "        \n",
       "    \n",
       "            var tile_layer_a1cb0339011597d659fb20d8aed3779f = L.tileLayer(\n",
       "                &quot;https://tile.openstreetmap.org/{z}/{x}/{y}.png&quot;,\n",
       "                {&quot;attribution&quot;: &quot;\\u0026copy; \\u003ca href=\\&quot;https://www.openstreetmap.org/copyright\\&quot;\\u003eOpenStreetMap\\u003c/a\\u003e contributors&quot;, &quot;detectRetina&quot;: false, &quot;maxNativeZoom&quot;: 19, &quot;maxZoom&quot;: 19, &quot;minZoom&quot;: 0, &quot;noWrap&quot;: false, &quot;opacity&quot;: 1, &quot;subdomains&quot;: &quot;abc&quot;, &quot;tms&quot;: false}\n",
       "            );\n",
       "        \n",
       "    \n",
       "            tile_layer_a1cb0339011597d659fb20d8aed3779f.addTo(map_d6f89c35f59f066b44142c919df37a95);\n",
       "        \n",
       "    \n",
       "        function geo_json_8b281a77467507cbe7e64eb2ed7c1e75_styler(feature) {\n",
       "            switch(feature.id) {\n",
       "                default:\n",
       "                    return {&quot;color&quot;: &quot;blue&quot;, &quot;fill&quot;: false};\n",
       "            }\n",
       "        }\n",
       "\n",
       "        function geo_json_8b281a77467507cbe7e64eb2ed7c1e75_onEachFeature(feature, layer) {\n",
       "            layer.on({\n",
       "            });\n",
       "        };\n",
       "        var geo_json_8b281a77467507cbe7e64eb2ed7c1e75 = L.geoJson(null, {\n",
       "                onEachFeature: geo_json_8b281a77467507cbe7e64eb2ed7c1e75_onEachFeature,\n",
       "            \n",
       "                style: geo_json_8b281a77467507cbe7e64eb2ed7c1e75_styler,\n",
       "        });\n",
       "\n",
       "        function geo_json_8b281a77467507cbe7e64eb2ed7c1e75_add (data) {\n",
       "            geo_json_8b281a77467507cbe7e64eb2ed7c1e75\n",
       "                .addData(data);\n",
       "        }\n",
       "            geo_json_8b281a77467507cbe7e64eb2ed7c1e75_add({&quot;features&quot;: [{&quot;geometry&quot;: {&quot;coordinates&quot;: [[[10.5201, 63.3205], [10.5201, 63.4525], [10.27, 63.4525], [10.27, 63.3205], [10.5201, 63.3205]]], &quot;type&quot;: &quot;Polygon&quot;}, &quot;id&quot;: &quot;0&quot;, &quot;type&quot;: &quot;Feature&quot;}], &quot;type&quot;: &quot;FeatureCollection&quot;});\n",
       "\n",
       "        \n",
       "    \n",
       "            geo_json_8b281a77467507cbe7e64eb2ed7c1e75.addTo(map_d6f89c35f59f066b44142c919df37a95);\n",
       "        \n",
       "&lt;/script&gt;\n",
       "&lt;/html&gt;\" style=\"position:absolute;width:100%;height:100%;left:0;top:0;border:none !important;\" allowfullscreen webkitallowfullscreen mozallowfullscreen></iframe></div></div>"
      ],
      "text/plain": [
       "<folium.folium.Map at 0x233d23e7770>"
      ]
     },
     "execution_count": 1,
     "metadata": {},
     "output_type": "execute_result"
    }
   ],
   "source": [
    "import folium\n",
    "from shapely.geometry import box\n",
    "import numpy as np\n",
    "\n",
    "def area_of_bbox(bbox)->float:\n",
    "    # Define the bounding box\n",
    "    \n",
    "    \n",
    "    # Calculate the width and height of the bounding box in degrees\n",
    "    width_deg = bbox[2] - bbox[0]\n",
    "    height_deg = bbox[3] - bbox[1]\n",
    "\n",
    "    # Convert the width and height to kilometers\n",
    "    # Use the average latitude to calculate the length of a degree of longitude\n",
    "    avg_latitude = (bbox[1] + bbox[3]) / 2\n",
    "    width_km = width_deg * 111.32 * np.cos(np.radians(avg_latitude))\n",
    "    height_km = height_deg * 111.32\n",
    "\n",
    "    # Calculate the area in km²\n",
    "    area_km2 = width_km * height_km\n",
    "    print(f'the area of the bounding box is {np.round(area_km2)} km2, with a width of {np.round(width_km)} km'\n",
    "            f'and a height of {np.round(height_km)} km')\n",
    "    return area_km2\n",
    "\n",
    "def print_map_bbox(bbox):\n",
    "    # Create a map centered with the bbox\n",
    "    m = folium.Map(location=[(bbox[1] + bbox[3])/2, (bbox[0] + bbox[2])/2], zoom_start=11)\n",
    "\n",
    "    # Add a rectangle for the bounding box\n",
    "    folium.GeoJson(box(*bbox), style_function=lambda x: {'color': 'blue', 'fill': False}).add_to(m)\n",
    "    area_of_bbox(bbox)\n",
    "\n",
    "    # Display the map\n",
    "    return m\n",
    "\n",
    "\n",
    "#bbox = [10.656900281, 59.8805, 10.8701, 59.97000325] # Oslo1\n",
    "#bbox = [10.77, 59.8280, 10.8500, 59.8805] # Oslo2\n",
    "#bbox = [10.61, 59.405, 10.70, 59.458] # Moss1\n",
    "#bbox = [10.648, 59.35505, 10.770, 59.405] # Moss2\n",
    "#bbox = [5.665, 58.9450, 5.77, 59.0] # stavanger1\n",
    "#bbox = [5.7048, 58.9, 5.759, 58.9450] # stavanger2\n",
    "bbox = [10.27, 63.3205, 10.5201, 63.4525] # Trondheim\n",
    "#bbox = [5.23, 60.26, 5.4, 60.4] # Bergen 1\n",
    "#bbox = [5.275, 60.43, 5.41, 60.49] # Bergen 2\n",
    "#bbox = [18.90, 69.627, 19.05, 69.715] # Tromsø\n",
    "#bbox = [10.85, 59.18, 11.22, 59.35] # Østfold\n",
    "\n",
    "m = print_map_bbox(bbox)\n",
    "m\n"
   ]
  },
  {
   "cell_type": "code",
   "execution_count": 2,
   "metadata": {},
   "outputs": [],
   "source": [
    "bboxes = {\n",
    "    'Oslo1': [[10.656900281, 59.8805, 10.8701, 59.97000325], 'Oslo vår 2023'], # Oslo1\n",
    "    'Oslo2': [[10.77, 59.8280, 10.8500, 59.8805],'Oslo vår 2023'], # Oslo2\n",
    "    'Moss1': [[10.61, 59.405, 10.70, 59.458],'Moss 2022'], # Moss1\n",
    "    'Moss2': [[10.648, 59.35505, 10.770, 59.405],'Moss 2022'], # Moss2\n",
    "    'Stavanger1': [[5.665, 58.9450, 5.77, 59.0], 'Stavanger 2023'], # stavanger1\n",
    "    'Stavanger2': [[5.7048, 58.9, 5.759, 58.9450], 'Stavanger 2023'], # stavanger2\n",
    "    'Trondheim': [[10.27, 63.3205, 10.5201, 63.4525],  'Trondheim MOF 2023'], # Trondheim\n",
    "    'Bergen1': [[5.23, 60.26, 5.4, 60.4], 'Bergen 2022'], # Bergen 1\n",
    "    'Bergen2': [[5.275, 60.43, 5.41, 60.49], 'Bergen 2022'], # Bergen 2\n",
    "    'Tromsø': [[18.90, 69.627, 19.05, 69.715], 'Tromsø midlertidig ortofoto 2023'],# Tromsø\n",
    "    'Østfold': [[10.85, 59.18, 11.22, 59.35], 'Sarpsborg Fredrikstad 2019'] # Østfold\n",
    "}\n",
    "# the coordinates are in WSG84/EPSG:4326, so you'll have to convert them. \n",
    "# the names are the orinial names of the datasets, you will have to replace spaces with underscores."
   ]
  },
  {
   "cell_type": "markdown",
   "metadata": {},
   "source": [
    "# total area of the bboxes"
   ]
  },
  {
   "cell_type": "code",
   "execution_count": 4,
   "metadata": {},
   "outputs": [
    {
     "name": "stdout",
     "output_type": "stream",
     "text": [
      "the area of the bounding box is 119.0 km2, with a width of 12.0 kmand a height of 10.0 km\n",
      "the area of the bounding box is 26.0 km2, with a width of 4.0 kmand a height of 6.0 km\n",
      "the area of the bounding box is 30.0 km2, with a width of 5.0 kmand a height of 6.0 km\n",
      "the area of the bounding box is 38.0 km2, with a width of 7.0 kmand a height of 6.0 km\n",
      "the area of the bounding box is 37.0 km2, with a width of 6.0 kmand a height of 6.0 km\n",
      "the area of the bounding box is 16.0 km2, with a width of 3.0 kmand a height of 5.0 km\n",
      "the area of the bounding box is 183.0 km2, with a width of 12.0 kmand a height of 15.0 km\n",
      "the area of the bounding box is 146.0 km2, with a width of 9.0 kmand a height of 16.0 km\n",
      "the area of the bounding box is 49.0 km2, with a width of 7.0 kmand a height of 7.0 km\n",
      "the area of the bounding box is 57.0 km2, with a width of 6.0 kmand a height of 10.0 km\n",
      "the area of the bounding box is 398.0 km2, with a width of 21.0 kmand a height of 19.0 km\n",
      "total area of all bounding boxes is 1100.0 km2\n"
     ]
    }
   ],
   "source": [
    "total_area = 0\n",
    "for key, value in bboxes.items():\n",
    "    total_area += area_of_bbox(value[0])\n",
    "    #print(f'{key} : {value[1]}')\n",
    "print(f'total area of all bounding boxes is {np.round(total_area)} km2')"
   ]
  },
  {
   "cell_type": "code",
   "execution_count": 3,
   "metadata": {},
   "outputs": [
    {
     "name": "stdout",
     "output_type": "stream",
     "text": [
      "the area with building is roughly 269.45 km2\n"
     ]
    }
   ],
   "source": [
    "building_area = 119 * 0.6 \\\n",
    "                        + 26*0.5 \\\n",
    "                        + 30*0.3 \\\n",
    "                        + 38*0.15 \\\n",
    "                        + 37*0.50 \\\n",
    "                        + 16* 0.6 \\\n",
    "                        + 183 * 0.35 \\\n",
    "                        + 146* 0.35 \\\n",
    "                        + 50* 0.2 \\\n",
    "                        + 57* 0.3 \\\n",
    "                        #+ 398* 0.25 \\\n",
    "\n",
    "print(f'the area with building is roughly {building_area} km2')"
   ]
  }
 ],
 "metadata": {
  "kernelspec": {
   "display_name": "demolition_footprints",
   "language": "python",
   "name": "python3"
  },
  "language_info": {
   "codemirror_mode": {
    "name": "ipython",
    "version": 3
   },
   "file_extension": ".py",
   "mimetype": "text/x-python",
   "name": "python",
   "nbconvert_exporter": "python",
   "pygments_lexer": "ipython3",
   "version": "3.12.1"
  }
 },
 "nbformat": 4,
 "nbformat_minor": 2
}
