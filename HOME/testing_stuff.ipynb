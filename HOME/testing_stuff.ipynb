{
 "cells": [
  {
   "cell_type": "code",
   "execution_count": 27,
   "metadata": {},
   "outputs": [
    {
     "name": "stdout",
     "output_type": "stream",
     "text": [
      "size='1028930008', int size=1028930008\n",
      "Size of /scratch/mueller_andco/orthophoto/HOME/data/raw: 1028930008\n",
      "False\n"
     ]
    }
   ],
   "source": [
    "import subprocess\n",
    "\n",
    "def get_directory_size_human_readable(directory, summary:str = False, human_readable:bool = True):\n",
    "    \"\"\"\n",
    "    Get the size of a directory in a human-readable format (similar to `du -sh`).\n",
    "\n",
    "    Args:\n",
    "        directory (str): Path to the directory.\n",
    "        summary (str): If True, return a summary of the directory sizes, else return sizes of all subdirectories.\n",
    "\n",
    "    Returns:\n",
    "        str: Size of the directory in human-readable format.\n",
    "    \"\"\"\n",
    "    if summary:\n",
    "        if human_readable:\n",
    "            command_keys = \"-sh\"\n",
    "        else:\n",
    "            command_keys = \"-s\"\n",
    "    else:\n",
    "        if human_readable:\n",
    "            command_keys = \"-h\"\n",
    "        else:\n",
    "            raise ValueError(\"non-human-readable format is not supported for detailed sizes.\")\n",
    "            command_keys = \"\"\n",
    "    try:\n",
    "        if summary:\n",
    "            result = subprocess.run(\n",
    "                [\"du\", command_keys, directory],\n",
    "                stdout=subprocess.PIPE,\n",
    "                stderr=subprocess.PIPE,\n",
    "                text=True,\n",
    "                check=True\n",
    "            )\n",
    "            return result.stdout.split()[0]  # Return the size part of the output\n",
    "        else:\n",
    "            result = subprocess.run(\n",
    "                [\"du\", command_keys, directory],\n",
    "                stdout=subprocess.PIPE,\n",
    "                stderr=subprocess.PIPE,\n",
    "                text=True,\n",
    "                check=True\n",
    "            )\n",
    "            # return a dictionary witht the subdirectory sizes\n",
    "            sizes = {}\n",
    "            for line in result.stdout.splitlines():\n",
    "                size, path = line.split(maxsplit=1)\n",
    "                # split the path to get the directory name\n",
    "                path = path.split(\"/\")[-1]\n",
    "                sizes[path] = size\n",
    "            return sizes\n",
    "    except subprocess.CalledProcessError as e:\n",
    "        print(f\"Error: {e.stderr}\")\n",
    "        return None\n",
    "\n",
    "# Example usage\n",
    "directory_path = \"/scratch/mueller_andco/orthophoto/HOME/data/raw\"\n",
    "size = get_directory_size_human_readable(directory_path, summary=True, human_readable=False)\n",
    "print(f\"{size=}, int size={int(size)}\")\n",
    "if size:\n",
    "    print(f\"Size of {directory_path}: {size}\")\n",
    "\n",
    "print(int(size) < 10**9)"
   ]
  }
 ],
 "metadata": {
  "kernelspec": {
   "display_name": "Python 3",
   "language": "python",
   "name": "python3"
  },
  "language_info": {
   "codemirror_mode": {
    "name": "ipython",
    "version": 3
   },
   "file_extension": ".py",
   "mimetype": "text/x-python",
   "name": "python",
   "nbconvert_exporter": "python",
   "pygments_lexer": "ipython3",
   "version": "3.10.0"
  }
 },
 "nbformat": 4,
 "nbformat_minor": 2
}
