{
 "cells": [
  {
   "cell_type": "markdown",
   "metadata": {},
   "source": [
    "### testing the functions in the get_othophoto folder"
   ]
  },
  {
   "cell_type": "code",
   "execution_count": 1,
   "metadata": {},
   "outputs": [],
   "source": [
    "import json\n",
    "import os\n",
    "import shutil\n",
    "import sys\n",
    "sys.path.append('../get_orthophoto')\n",
    "\n",
    "from project_metadata import get_all_projects\n",
    "from start_export import start_export, save_export_job\n",
    "from status_export import status_export, save_download_url\n",
    "from download_project import download_project"
   ]
  },
  {
   "cell_type": "markdown",
   "metadata": {},
   "source": [
    "#### list of projects"
   ]
  },
  {
   "cell_type": "code",
   "execution_count": 2,
   "metadata": {},
   "outputs": [
    {
     "name": "stdout",
     "output_type": "stream",
     "text": [
      "['Strinda 1964', 'Trondheim Strinda 1937', 'Trondheim 2019']\n"
     ]
    }
   ],
   "source": [
    "projects = get_all_projects()\n",
    "\n",
    "# trying with selection, but most names are exactly the same on the website\n",
    "selection = [p if \"strinda\" in p.lower() else None for p in projects]\n",
    "selection = [p for p in selection if p is not None]\n",
    "other_selection = [p if \"trondheim 2019\" in p.lower() else None for p in projects]\n",
    "other_selection = [p for p in other_selection if p is not None]\n",
    "selected = selection + other_selection\n",
    "print(selected)"
   ]
  },
  {
   "cell_type": "markdown",
   "metadata": {},
   "source": [
    "### start export"
   ]
  },
  {
   "cell_type": "code",
   "execution_count": 3,
   "metadata": {},
   "outputs": [],
   "source": [
    "# write down export details\n",
    "export = {\n",
    "    \"project\": 'Trondheim Strinda 1937',\n",
    "    \"resolution\" : 1,\n",
    "    \"compression_method\": 5,\n",
    "    \"compression_value\": 50,\n",
    "    \"mosaic\": False,\n",
    "    }\n",
    "if False: # request export and save jobID\n",
    "    JobID = start_export(**export)\n",
    "    save_export_job(JobID,**export)"
   ]
  },
  {
   "cell_type": "markdown",
   "metadata": {},
   "source": [
    "#### check status and save download link"
   ]
  },
  {
   "cell_type": "code",
   "execution_count": 4,
   "metadata": {},
   "outputs": [
    {
     "name": "stdout",
     "output_type": "stream",
     "text": [
      "available jobs: [].\n"
     ]
    }
   ],
   "source": [
    "# check for current exports:\n",
    "jobs = os.listdir(os.path.dirname(os.path.dirname(os.getcwd())) + \"/data/temp/jobids/\")\n",
    "# exclude folders:\n",
    "jobs = [j for j in jobs if \".\" in j]\n",
    "print(f'available jobs: {jobs}.')\n",
    "if len(jobs) > 1:\n",
    "    # by default, take the first job\n",
    "    current_job = jobs[0]\n",
    "    # read in json:\n",
    "    job_path = os.path.dirname(os.path.dirname(os.getcwd())) + \"/data/temp/jobids/\"\n",
    "    with open(job_path+current_job, \"r\") as f:\n",
    "        job_details = json.load(f)\n",
    "    complete, url = status_export(job_details[\"JobID\"])\n",
    "    print(f'The job is done: {complete}, the url is {url}.')\n",
    "\n",
    "    if complete:\n",
    "        print(\"Export complete, JobID moved to archive\")\n",
    "        job_details.pop(\"JobID\")\n",
    "        save_download_url(url, **job_details)\n",
    "        # move the job to archive\n",
    "        shutil.move(job_path+current_job, job_path+\"used_jobids/\"+current_job)"
   ]
  },
  {
   "cell_type": "markdown",
   "metadata": {},
   "source": [
    "#### save the files"
   ]
  },
  {
   "cell_type": "code",
   "execution_count": 6,
   "metadata": {},
   "outputs": [
    {
     "name": "stdout",
     "output_type": "stream",
     "text": [
      "current urls: ['Download_trondheim strinda 1937_20240306-103723.json'].\n"
     ]
    }
   ],
   "source": [
    "possible_downloads = os.listdir(os.path.dirname(os.path.dirname(os.getcwd())) + \"/data/temp/urls/\")\n",
    "# exclude folders\n",
    "possible_downloads = [p for p in possible_downloads if \".\" in p]\n",
    "print(f'current urls: {possible_downloads}.')\n",
    "if len(possible_downloads) > 0:\n",
    "    current_download = possible_downloads[0]\n",
    "    # read in json:\n",
    "    job_path = os.path.dirname(os.path.dirname(os.getcwd())) + \"/data/temp/urls/\"\n",
    "    with open(job_path+current_download, \"r\") as f:\n",
    "        job_details = json.load(f)\n",
    "    job_details\n",
    "\n",
    "    # download the project\n",
    "    download_project(**job_details)\n",
    "    # move the job to archive\n",
    "    shutil.move(job_path+current_download, job_path+\"used_urls/\"+current_download)"
   ]
  }
 ],
 "metadata": {
  "kernelspec": {
   "display_name": "demolition_footprints",
   "language": "python",
   "name": "python3"
  },
  "language_info": {
   "codemirror_mode": {
    "name": "ipython",
    "version": 3
   },
   "file_extension": ".py",
   "mimetype": "text/x-python",
   "name": "python",
   "nbconvert_exporter": "python",
   "pygments_lexer": "ipython3",
   "version": "3.12.1"
  }
 },
 "nbformat": 4,
 "nbformat_minor": 2
}
